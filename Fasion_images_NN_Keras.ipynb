{
  "nbformat": 4,
  "nbformat_minor": 0,
  "metadata": {
    "colab": {
      "provenance": [],
      "authorship_tag": "ABX9TyPYpK2qXYAk9CQBS5zHf5yz",
      "include_colab_link": true
    },
    "kernelspec": {
      "name": "python3",
      "display_name": "Python 3"
    },
    "language_info": {
      "name": "python"
    }
  },
  "cells": [
    {
      "cell_type": "markdown",
      "metadata": {
        "id": "view-in-github",
        "colab_type": "text"
      },
      "source": [
        "<a href=\"https://colab.research.google.com/github/drsennet/Tools-to-Design-or-Visualize-Architecture-of-Neural-Network/blob/master/Fasion_images_NN_Keras.ipynb\" target=\"_parent\"><img src=\"https://colab.research.google.com/assets/colab-badge.svg\" alt=\"Open In Colab\"/></a>"
      ]
    },
    {
      "cell_type": "code",
      "execution_count": null,
      "metadata": {
        "id": "4T_oIWl-DW3Z"
      },
      "outputs": [],
      "source": [
        "import numpy as np\n",
        "import pandas as pd\n",
        "%matplotlib inline\n",
        "import matplotlib as mpl\n",
        "import matplotlib.pyplot as plt"
      ]
    },
    {
      "cell_type": "markdown",
      "source": [],
      "metadata": {
        "id": "zPV2BcdRDnRz"
      }
    },
    {
      "cell_type": "code",
      "source": [
        "import tensorflow  as tf\n",
        "from tensorflow import keras\n"
      ],
      "metadata": {
        "id": "mAqswFjPDnlj"
      },
      "execution_count": null,
      "outputs": []
    },
    {
      "cell_type": "code",
      "source": [
        "keras.__version__\n"
      ],
      "metadata": {
        "colab": {
          "base_uri": "https://localhost:8080/",
          "height": 35
        },
        "id": "k7_GKaxRD5Ox",
        "outputId": "522d1e5e-0710-49ce-bb59-38558fb85760"
      },
      "execution_count": null,
      "outputs": [
        {
          "output_type": "execute_result",
          "data": {
            "text/plain": [
              "'2.9.0'"
            ],
            "application/vnd.google.colaboratory.intrinsic+json": {
              "type": "string"
            }
          },
          "metadata": {},
          "execution_count": 3
        }
      ]
    },
    {
      "cell_type": "code",
      "source": [
        "tf.__version__"
      ],
      "metadata": {
        "colab": {
          "base_uri": "https://localhost:8080/",
          "height": 35
        },
        "id": "c9YdovatD-kY",
        "outputId": "f2954245-788e-4fa9-853d-f6d750981337"
      },
      "execution_count": null,
      "outputs": [
        {
          "output_type": "execute_result",
          "data": {
            "text/plain": [
              "'2.9.2'"
            ],
            "application/vnd.google.colaboratory.intrinsic+json": {
              "type": "string"
            }
          },
          "metadata": {},
          "execution_count": 4
        }
      ]
    },
    {
      "cell_type": "code",
      "source": [
        "fashion_mist = keras.datasets.fashion_mnist\n",
        "fashion_mist"
      ],
      "metadata": {
        "colab": {
          "base_uri": "https://localhost:8080/"
        },
        "id": "jF56nkYsEBb_",
        "outputId": "6e86d346-5f33-48e6-9fa4-249921223507"
      },
      "execution_count": null,
      "outputs": [
        {
          "output_type": "execute_result",
          "data": {
            "text/plain": [
              "<module 'keras.api._v2.keras.datasets.fashion_mnist' from '/usr/local/lib/python3.8/dist-packages/keras/api/_v2/keras/datasets/fashion_mnist/__init__.py'>"
            ]
          },
          "metadata": {},
          "execution_count": 5
        }
      ]
    },
    {
      "cell_type": "code",
      "source": [
        "fashion_mist\n",
        "#Train: 6,000 observation; Test: 10,000 observations\n",
        "(X_train_full, y_train_full), (X_test, y_test) = fashion_mist.load_data()\n"
      ],
      "metadata": {
        "colab": {
          "base_uri": "https://localhost:8080/"
        },
        "id": "Fqt3aNsyEW-f",
        "outputId": "8e9c6491-97d5-40e9-ea07-b664510f2481"
      },
      "execution_count": null,
      "outputs": [
        {
          "output_type": "stream",
          "name": "stdout",
          "text": [
            "Downloading data from https://storage.googleapis.com/tensorflow/tf-keras-datasets/train-labels-idx1-ubyte.gz\n",
            "29515/29515 [==============================] - 0s 0us/step\n",
            "Downloading data from https://storage.googleapis.com/tensorflow/tf-keras-datasets/train-images-idx3-ubyte.gz\n",
            "26421880/26421880 [==============================] - 1s 0us/step\n",
            "Downloading data from https://storage.googleapis.com/tensorflow/tf-keras-datasets/t10k-labels-idx1-ubyte.gz\n",
            "5148/5148 [==============================] - 0s 0us/step\n",
            "Downloading data from https://storage.googleapis.com/tensorflow/tf-keras-datasets/t10k-images-idx3-ubyte.gz\n",
            "4422102/4422102 [==============================] - 0s 0us/step\n"
          ]
        }
      ]
    },
    {
      "cell_type": "code",
      "source": [
        "plt.imshow(X_train_full[4]) #First element: image at position zero\n"
      ],
      "metadata": {
        "colab": {
          "base_uri": "https://localhost:8080/",
          "height": 282
        },
        "id": "TJXYFiHwEhwg",
        "outputId": "92150aa5-ac17-45ef-e15a-715b2dcbb41f"
      },
      "execution_count": null,
      "outputs": [
        {
          "output_type": "execute_result",
          "data": {
            "text/plain": [
              "<matplotlib.image.AxesImage at 0x7fcd596051c0>"
            ]
          },
          "metadata": {},
          "execution_count": 7
        },
        {
          "output_type": "display_data",
          "data": {
            "text/plain": [
              "<Figure size 432x288 with 1 Axes>"
            ],
            "image/png": "[encoded data removed]"
          },
          "metadata": {
            "needs_background": "light"
          }
        }
      ]
    },
    {
      "cell_type": "code",
      "source": [
        "y_train_full[1] # output: veiw the category"
      ],
      "metadata": {
        "id": "0suzQod1Et7B"
      },
      "execution_count": null,
      "outputs": []
    },
    {
      "cell_type": "code",
      "source": [
        "#Creating the decription of label\n",
        "class_names = [\"T-shirt/top\", \"Trouser\", \"Pullover\", \"Dress\", \"Coat\",\n",
        "               \"Sandal\", \"Shirt\", \"Sneaker\", \"Bag\", \"Ankle boot\"]"
      ],
      "metadata": {
        "id": "p9witc45ExqH"
      },
      "execution_count": null,
      "outputs": []
    },
    {
      "cell_type": "code",
      "source": [
        "class_names[y_train_full[1]]"
      ],
      "metadata": {
        "colab": {
          "base_uri": "https://localhost:8080/",
          "height": 35
        },
        "id": "cqxf9s9UE3A9",
        "outputId": "cfc63121-b2a3-449e-82cb-4151b1d8fb3f"
      },
      "execution_count": null,
      "outputs": [
        {
          "output_type": "execute_result",
          "data": {
            "text/plain": [
              "'T-shirt/top'"
            ],
            "application/vnd.google.colaboratory.intrinsic+json": {
              "type": "string"
            }
          },
          "metadata": {},
          "execution_count": 9
        }
      ]
    },
    {
      "cell_type": "code",
      "source": [
        "X_train_full[10]"
      ],
      "metadata": {
        "colab": {
          "base_uri": "https://localhost:8080/"
        },
        "id": "lNfm8BJyFCXu",
        "outputId": "9a7c74c2-106a-4fef-907c-597f4debc314"
      },
      "execution_count": null,
      "outputs": [
        {
          "output_type": "execute_result",
          "data": {
            "text/plain": [
              "array([[  0,   0,   0,   0,   0,   0,   0,  11, 142, 200, 106,   0,   0,\n",
              "          0,   0,   0,   0,   0,  85, 185, 112,   0,   0,   0,   0,   0,\n",
              "          0,   0],\n",
              "       [  0,   0,   0,   0,   0,   0, 152, 214, 217, 194, 236, 216, 187,\n",
              "        149, 135, 153, 211, 217, 231, 205, 217, 188,  34,   0,   0,   0,\n",
              "          0,   0],\n",
              "       [  0,   0,   0,   0,   0,  66, 185, 166, 180, 181, 190, 211, 221,\n",
              "        197, 146, 198, 206, 191, 168, 190, 172, 188, 175,   0,   0,   0,\n",
              "          0,   0],\n",
              "       [  0,   0,   0,   0,   0, 135, 153, 160, 175, 180, 170, 186, 187,\n",
              "        190, 188, 190, 187, 174, 195, 185, 174, 161, 175,  59,   0,   0,\n",
              "          0,   0],\n",
              "       [  0,   0,   0,   0,   0, 161, 147, 160, 170, 178, 177, 180, 168,\n",
              "        173, 174, 171, 185, 184, 185, 172, 171, 164, 174, 120,   0,   0,\n",
              "          0,   0],\n",
              "       [  0,   0,   0,   0,   2, 175, 146, 145, 168, 178, 181, 185, 180,\n",
              "        184, 178, 179, 187, 191, 193, 190, 181, 171, 172, 158,   0,   0,\n",
              "          0,   0],\n",
              "       [  0,   0,   0,   0,  35, 177, 155, 140, 151, 172, 191, 187, 186,\n",
              "        187, 186, 187, 182, 191, 194, 188, 180, 161, 161, 185,   0,   0,\n",
              "          0,   0],\n",
              "       [  0,   0,   0,   0,  59, 170, 153, 141, 120, 154, 160, 161, 172,\n",
              "        168, 166, 161, 165, 172, 170, 164, 139, 149, 162, 166,  21,   0,\n",
              "          0,   0],\n",
              "       [  0,   0,   0,   0,  79, 145, 160, 214, 123, 128, 153, 160, 164,\n",
              "        158, 157, 154, 155, 170, 165, 141, 195, 193, 152, 166,  61,   0,\n",
              "          0,   0],\n",
              "       [  0,   0,   0,   0, 100, 157, 225, 245, 175, 113, 174, 158, 158,\n",
              "        160, 155, 160, 164, 178, 188, 135, 185, 240, 201, 172, 108,   0,\n",
              "          0,   0],\n",
              "       [  0,   0,   0,   0,   0,  31, 174,  28, 126, 153, 166, 152, 158,\n",
              "        158, 160, 161, 157, 168, 191, 188,  18, 132, 159,   7,   0,   0,\n",
              "          0,   0],\n",
              "       [  0,   0,   0,   0,   0,   0,   0,   0,  82, 187, 159, 153, 157,\n",
              "        158, 162, 164, 164, 154, 187, 190,   0,   0,   0,   0,   0,   0,\n",
              "          0,   0],\n",
              "       [  0,   0,   0,   0,   1,   3,   5,   0,  37, 175, 158, 155, 162,\n",
              "        158, 160, 162, 165, 153, 177, 205,   0,   0,   3,   3,   0,   0,\n",
              "          0,   0],\n",
              "       [  0,   0,   0,   0,   0,   0,   1,   0,  25, 175, 152, 160, 158,\n",
              "        161, 160, 164, 164, 161, 166, 200,   0,   0,   1,   0,   0,   0,\n",
              "          0,   0],\n",
              "       [  0,   0,   0,   0,   0,   0,   4,   0,  30, 171, 147, 164, 155,\n",
              "        165, 161, 165, 162, 170, 164, 162,   0,   0,   2,   0,   0,   0,\n",
              "          0,   0],\n",
              "       [  0,   0,   0,   0,   0,   0,   4,   0,  57, 166, 155, 164, 166,\n",
              "        161, 161, 164, 167, 165, 165, 162,  28,   0,   3,   0,   0,   0,\n",
              "          0,   0],\n",
              "       [  0,   0,   0,   0,   0,   0,   3,   0, 114, 161, 161, 166, 159,\n",
              "        168, 161, 161, 172, 162, 165, 171,  50,   0,   5,   0,   0,   0,\n",
              "          0,   0],\n",
              "       [  0,   0,   0,   0,   0,   0,   1,   0, 149, 157, 167, 172, 159,\n",
              "        172, 164, 161, 172, 170, 160, 171,  89,   0,   4,   0,   0,   0,\n",
              "          0,   0],\n",
              "       [  0,   0,   0,   0,   0,   2,   0,   4, 171, 164, 166, 173, 159,\n",
              "        179, 166, 160, 174, 167, 162, 166, 128,   0,   2,   0,   0,   0,\n",
              "          0,   0],\n",
              "       [  0,   0,   0,   0,   0,   3,   0,  18, 152, 173, 160, 179, 154,\n",
              "        181, 166, 164, 175, 170, 166, 170, 164,   0,   0,   1,   0,   0,\n",
              "          0,   0],\n",
              "       [  0,   0,   0,   0,   0,   4,   0,  47, 165, 172, 167, 185, 153,\n",
              "        187, 173, 165, 174, 179, 166, 166, 158,   5,   0,   3,   0,   0,\n",
              "          0,   0],\n",
              "       [  0,   0,   0,   0,   0,   4,   0,  87, 180, 162, 179, 179, 157,\n",
              "        191, 182, 165, 168, 190, 173, 165, 166,  20,   0,   4,   0,   0,\n",
              "          0,   0],\n",
              "       [  0,   0,   0,   0,   0,   4,   0, 105, 187, 157, 194, 175, 161,\n",
              "        190, 184, 170, 158, 205, 177, 168, 171,  44,   0,   4,   0,   0,\n",
              "          0,   0],\n",
              "       [  0,   0,   0,   0,   0,   5,   0, 138, 181, 158, 205, 160, 167,\n",
              "        190, 198, 167, 152, 218, 186, 170, 172,  57,   0,   5,   0,   0,\n",
              "          0,   0],\n",
              "       [  0,   0,   0,   0,   0,   5,   0, 135, 174, 167, 199, 155, 166,\n",
              "        201, 219, 165, 158, 218, 188, 167, 175,  56,   0,   7,   0,   0,\n",
              "          0,   0],\n",
              "       [  0,   0,   0,   0,   0,   5,   0, 129, 171, 172, 177, 153, 159,\n",
              "        206, 216, 148, 157, 206, 190, 165, 175,  48,   0,   5,   0,   0,\n",
              "          0,   0],\n",
              "       [  0,   0,   0,   0,   0,   5,   0, 167, 187, 182, 198, 194, 200,\n",
              "        226, 240, 184, 206, 255, 197, 178, 179,  42,   0,   5,   0,   0,\n",
              "          0,   0],\n",
              "       [  0,   0,   0,   0,   0,   3,   0, 115, 135, 113, 106,  85,  82,\n",
              "        108, 133,  83,  90, 121, 120, 110, 158,  18,   0,   3,   0,   0,\n",
              "          0,   0]], dtype=uint8)"
            ]
          },
          "metadata": {},
          "execution_count": 10
        }
      ]
    },
    {
      "cell_type": "code",
      "source": [
        "#3. Normalization and Test-Train Split\n",
        "\n",
        "    #3.1 Data Normalization: 0 to 255\n",
        "X_train_n = X_train_full / 255    \n",
        "X_test_n = X_test / 255 "
      ],
      "metadata": {
        "id": "mz3oieJaFFku"
      },
      "execution_count": null,
      "outputs": []
    },
    {
      "cell_type": "code",
      "source": [
        " #3.2 Split the data into train/validation/test dataset\n",
        "        #Train data: used for training model\n",
        "        #Validation data: fo tuning the hyperparameters and\n",
        "            #evaluate the model\n",
        "        #Test data: to test the model after the model has \n",
        "            #gone throuh=gh initial vetting by the validation set\n",
        "X_valid, X_train = X_train_n[:5000], X_train_n[5000:]\n",
        "y_valid, y_train = y_train_full[:5000], y_train_full[5000:]\n",
        "X_test = X_test_n\n",
        "X_valid[0]"
      ],
      "metadata": {
        "colab": {
          "base_uri": "https://localhost:8080/"
        },
        "id": "UkwS_YGwFLU-",
        "outputId": "8f273525-bc98-4ea6-f727-e062bd426eca"
      },
      "execution_count": null,
      "outputs": [
        {
          "output_type": "execute_result",
          "data": {
            "text/plain": [
              "array([[0.        , 0.        , 0.        , 0.        , 0.        ,\n",
              "        0.        , 0.        , 0.        , 0.        , 0.        ,\n",
              "        0.        , 0.        , 0.        , 0.        , 0.        ,\n",
              "        0.        , 0.        , 0.        , 0.        , 0.        ,\n",
              "        0.        , 0.        , 0.        , 0.        , 0.        ,\n",
              "        0.        , 0.        , 0.        ],\n",
              "       [0.        , 0.        , 0.        , 0.        , 0.        ,\n",
              "        0.        , 0.        , 0.        , 0.        , 0.        ,\n",
              "        0.        , 0.        , 0.        , 0.        , 0.        ,\n",
              "        0.        , 0.        , 0.        , 0.        , 0.        ,\n",
              "        0.        , 0.        , 0.        , 0.        , 0.        ,\n",
              "        0.        , 0.        , 0.        ],\n",
              "       [0.        , 0.        , 0.        , 0.        , 0.        ,\n",
              "        0.        , 0.        , 0.        , 0.        , 0.        ,\n",
              "        0.        , 0.        , 0.        , 0.        , 0.        ,\n",
              "        0.        , 0.        , 0.        , 0.        , 0.        ,\n",
              "        0.        , 0.        , 0.        , 0.        , 0.        ,\n",
              "        0.        , 0.        , 0.        ],\n",
              "       [0.        , 0.        , 0.        , 0.        , 0.        ,\n",
              "        0.        , 0.        , 0.        , 0.        , 0.        ,\n",
              "        0.        , 0.        , 0.00392157, 0.        , 0.        ,\n",
              "        0.05098039, 0.28627451, 0.        , 0.        , 0.00392157,\n",
              "        0.01568627, 0.        , 0.        , 0.        , 0.        ,\n",
              "        0.00392157, 0.00392157, 0.        ],\n",
              "       [0.        , 0.        , 0.        , 0.        , 0.        ,\n",
              "        0.        , 0.        , 0.        , 0.        , 0.        ,\n",
              "        0.        , 0.        , 0.01176471, 0.        , 0.14117647,\n",
              "        0.53333333, 0.49803922, 0.24313725, 0.21176471, 0.        ,\n",
              "        0.        , 0.        , 0.00392157, 0.01176471, 0.01568627,\n",
              "        0.        , 0.        , 0.01176471],\n",
              "       [0.        , 0.        , 0.        , 0.        , 0.        ,\n",
              "        0.        , 0.        , 0.        , 0.        , 0.        ,\n",
              "        0.        , 0.        , 0.02352941, 0.        , 0.4       ,\n",
              "        0.8       , 0.69019608, 0.5254902 , 0.56470588, 0.48235294,\n",
              "        0.09019608, 0.        , 0.        , 0.        , 0.        ,\n",
              "        0.04705882, 0.03921569, 0.        ],\n",
              "       [0.        , 0.        , 0.        , 0.        , 0.        ,\n",
              "        0.        , 0.        , 0.        , 0.        , 0.        ,\n",
              "        0.        , 0.        , 0.        , 0.        , 0.60784314,\n",
              "        0.9254902 , 0.81176471, 0.69803922, 0.41960784, 0.61176471,\n",
              "        0.63137255, 0.42745098, 0.25098039, 0.09019608, 0.30196078,\n",
              "        0.50980392, 0.28235294, 0.05882353],\n",
              "       [0.        , 0.        , 0.        , 0.        , 0.        ,\n",
              "        0.        , 0.        , 0.        , 0.        , 0.        ,\n",
              "        0.        , 0.00392157, 0.        , 0.27058824, 0.81176471,\n",
              "        0.8745098 , 0.85490196, 0.84705882, 0.84705882, 0.63921569,\n",
              "        0.49803922, 0.4745098 , 0.47843137, 0.57254902, 0.55294118,\n",
              "        0.34509804, 0.6745098 , 0.25882353],\n",
              "       [0.        , 0.        , 0.        , 0.        , 0.        ,\n",
              "        0.        , 0.        , 0.        , 0.        , 0.00392157,\n",
              "        0.00392157, 0.00392157, 0.        , 0.78431373, 0.90980392,\n",
              "        0.90980392, 0.91372549, 0.89803922, 0.8745098 , 0.8745098 ,\n",
              "        0.84313725, 0.83529412, 0.64313725, 0.49803922, 0.48235294,\n",
              "        0.76862745, 0.89803922, 0.        ],\n",
              "       [0.        , 0.        , 0.        , 0.        , 0.        ,\n",
              "        0.        , 0.        , 0.        , 0.        , 0.        ,\n",
              "        0.        , 0.        , 0.        , 0.71764706, 0.88235294,\n",
              "        0.84705882, 0.8745098 , 0.89411765, 0.92156863, 0.89019608,\n",
              "        0.87843137, 0.87058824, 0.87843137, 0.86666667, 0.8745098 ,\n",
              "        0.96078431, 0.67843137, 0.        ],\n",
              "       [0.        , 0.        , 0.        , 0.        , 0.        ,\n",
              "        0.        , 0.        , 0.        , 0.        , 0.        ,\n",
              "        0.        , 0.        , 0.        , 0.75686275, 0.89411765,\n",
              "        0.85490196, 0.83529412, 0.77647059, 0.70588235, 0.83137255,\n",
              "        0.82352941, 0.82745098, 0.83529412, 0.8745098 , 0.8627451 ,\n",
              "        0.95294118, 0.79215686, 0.        ],\n",
              "       [0.        , 0.        , 0.        , 0.        , 0.        ,\n",
              "        0.        , 0.        , 0.        , 0.        , 0.00392157,\n",
              "        0.01176471, 0.        , 0.04705882, 0.85882353, 0.8627451 ,\n",
              "        0.83137255, 0.85490196, 0.75294118, 0.6627451 , 0.89019608,\n",
              "        0.81568627, 0.85490196, 0.87843137, 0.83137255, 0.88627451,\n",
              "        0.77254902, 0.81960784, 0.20392157],\n",
              "       [0.        , 0.        , 0.        , 0.        , 0.        ,\n",
              "        0.        , 0.        , 0.        , 0.        , 0.        ,\n",
              "        0.02352941, 0.        , 0.38823529, 0.95686275, 0.87058824,\n",
              "        0.8627451 , 0.85490196, 0.79607843, 0.77647059, 0.86666667,\n",
              "        0.84313725, 0.83529412, 0.87058824, 0.8627451 , 0.96078431,\n",
              "        0.46666667, 0.65490196, 0.21960784],\n",
              "       [0.        , 0.        , 0.        , 0.        , 0.        ,\n",
              "        0.        , 0.        , 0.        , 0.        , 0.01568627,\n",
              "        0.        , 0.        , 0.21568627, 0.9254902 , 0.89411765,\n",
              "        0.90196078, 0.89411765, 0.94117647, 0.90980392, 0.83529412,\n",
              "        0.85490196, 0.8745098 , 0.91764706, 0.85098039, 0.85098039,\n",
              "        0.81960784, 0.36078431, 0.        ],\n",
              "       [0.        , 0.        , 0.00392157, 0.01568627, 0.02352941,\n",
              "        0.02745098, 0.00784314, 0.        , 0.        , 0.        ,\n",
              "        0.        , 0.        , 0.92941176, 0.88627451, 0.85098039,\n",
              "        0.8745098 , 0.87058824, 0.85882353, 0.87058824, 0.86666667,\n",
              "        0.84705882, 0.8745098 , 0.89803922, 0.84313725, 0.85490196,\n",
              "        1.        , 0.30196078, 0.        ],\n",
              "       [0.        , 0.01176471, 0.        , 0.        , 0.        ,\n",
              "        0.        , 0.        , 0.        , 0.        , 0.24313725,\n",
              "        0.56862745, 0.8       , 0.89411765, 0.81176471, 0.83529412,\n",
              "        0.86666667, 0.85490196, 0.81568627, 0.82745098, 0.85490196,\n",
              "        0.87843137, 0.8745098 , 0.85882353, 0.84313725, 0.87843137,\n",
              "        0.95686275, 0.62352941, 0.        ],\n",
              "       [0.        , 0.        , 0.        , 0.        , 0.07058824,\n",
              "        0.17254902, 0.32156863, 0.41960784, 0.74117647, 0.89411765,\n",
              "        0.8627451 , 0.87058824, 0.85098039, 0.88627451, 0.78431373,\n",
              "        0.80392157, 0.82745098, 0.90196078, 0.87843137, 0.91764706,\n",
              "        0.69019608, 0.7372549 , 0.98039216, 0.97254902, 0.91372549,\n",
              "        0.93333333, 0.84313725, 0.        ],\n",
              "       [0.        , 0.22352941, 0.73333333, 0.81568627, 0.87843137,\n",
              "        0.86666667, 0.87843137, 0.81568627, 0.8       , 0.83921569,\n",
              "        0.81568627, 0.81960784, 0.78431373, 0.62352941, 0.96078431,\n",
              "        0.75686275, 0.80784314, 0.8745098 , 1.        , 1.        ,\n",
              "        0.86666667, 0.91764706, 0.86666667, 0.82745098, 0.8627451 ,\n",
              "        0.90980392, 0.96470588, 0.        ],\n",
              "       [0.01176471, 0.79215686, 0.89411765, 0.87843137, 0.86666667,\n",
              "        0.82745098, 0.82745098, 0.83921569, 0.80392157, 0.80392157,\n",
              "        0.80392157, 0.8627451 , 0.94117647, 0.31372549, 0.58823529,\n",
              "        1.        , 0.89803922, 0.86666667, 0.7372549 , 0.60392157,\n",
              "        0.74901961, 0.82352941, 0.8       , 0.81960784, 0.87058824,\n",
              "        0.89411765, 0.88235294, 0.        ],\n",
              "       [0.38431373, 0.91372549, 0.77647059, 0.82352941, 0.87058824,\n",
              "        0.89803922, 0.89803922, 0.91764706, 0.97647059, 0.8627451 ,\n",
              "        0.76078431, 0.84313725, 0.85098039, 0.94509804, 0.25490196,\n",
              "        0.28627451, 0.41568627, 0.45882353, 0.65882353, 0.85882353,\n",
              "        0.86666667, 0.84313725, 0.85098039, 0.8745098 , 0.8745098 ,\n",
              "        0.87843137, 0.89803922, 0.11372549],\n",
              "       [0.29411765, 0.8       , 0.83137255, 0.8       , 0.75686275,\n",
              "        0.80392157, 0.82745098, 0.88235294, 0.84705882, 0.7254902 ,\n",
              "        0.77254902, 0.80784314, 0.77647059, 0.83529412, 0.94117647,\n",
              "        0.76470588, 0.89019608, 0.96078431, 0.9372549 , 0.8745098 ,\n",
              "        0.85490196, 0.83137255, 0.81960784, 0.87058824, 0.8627451 ,\n",
              "        0.86666667, 0.90196078, 0.2627451 ],\n",
              "       [0.18823529, 0.79607843, 0.71764706, 0.76078431, 0.83529412,\n",
              "        0.77254902, 0.7254902 , 0.74509804, 0.76078431, 0.75294118,\n",
              "        0.79215686, 0.83921569, 0.85882353, 0.86666667, 0.8627451 ,\n",
              "        0.9254902 , 0.88235294, 0.84705882, 0.78039216, 0.80784314,\n",
              "        0.72941176, 0.70980392, 0.69411765, 0.6745098 , 0.70980392,\n",
              "        0.80392157, 0.80784314, 0.45098039],\n",
              "       [0.        , 0.47843137, 0.85882353, 0.75686275, 0.70196078,\n",
              "        0.67058824, 0.71764706, 0.76862745, 0.8       , 0.82352941,\n",
              "        0.83529412, 0.81176471, 0.82745098, 0.82352941, 0.78431373,\n",
              "        0.76862745, 0.76078431, 0.74901961, 0.76470588, 0.74901961,\n",
              "        0.77647059, 0.75294118, 0.69019608, 0.61176471, 0.65490196,\n",
              "        0.69411765, 0.82352941, 0.36078431],\n",
              "       [0.        , 0.        , 0.29019608, 0.74117647, 0.83137255,\n",
              "        0.74901961, 0.68627451, 0.6745098 , 0.68627451, 0.70980392,\n",
              "        0.7254902 , 0.7372549 , 0.74117647, 0.7372549 , 0.75686275,\n",
              "        0.77647059, 0.8       , 0.81960784, 0.82352941, 0.82352941,\n",
              "        0.82745098, 0.7372549 , 0.7372549 , 0.76078431, 0.75294118,\n",
              "        0.84705882, 0.66666667, 0.        ],\n",
              "       [0.00784314, 0.        , 0.        , 0.        , 0.25882353,\n",
              "        0.78431373, 0.87058824, 0.92941176, 0.9372549 , 0.94901961,\n",
              "        0.96470588, 0.95294118, 0.95686275, 0.86666667, 0.8627451 ,\n",
              "        0.75686275, 0.74901961, 0.70196078, 0.71372549, 0.71372549,\n",
              "        0.70980392, 0.69019608, 0.65098039, 0.65882353, 0.38823529,\n",
              "        0.22745098, 0.        , 0.        ],\n",
              "       [0.        , 0.        , 0.        , 0.        , 0.        ,\n",
              "        0.        , 0.        , 0.15686275, 0.23921569, 0.17254902,\n",
              "        0.28235294, 0.16078431, 0.1372549 , 0.        , 0.        ,\n",
              "        0.        , 0.        , 0.        , 0.        , 0.        ,\n",
              "        0.        , 0.        , 0.        , 0.        , 0.        ,\n",
              "        0.        , 0.        , 0.        ],\n",
              "       [0.        , 0.        , 0.        , 0.        , 0.        ,\n",
              "        0.        , 0.        , 0.        , 0.        , 0.        ,\n",
              "        0.        , 0.        , 0.        , 0.        , 0.        ,\n",
              "        0.        , 0.        , 0.        , 0.        , 0.        ,\n",
              "        0.        , 0.        , 0.        , 0.        , 0.        ,\n",
              "        0.        , 0.        , 0.        ],\n",
              "       [0.        , 0.        , 0.        , 0.        , 0.        ,\n",
              "        0.        , 0.        , 0.        , 0.        , 0.        ,\n",
              "        0.        , 0.        , 0.        , 0.        , 0.        ,\n",
              "        0.        , 0.        , 0.        , 0.        , 0.        ,\n",
              "        0.        , 0.        , 0.        , 0.        , 0.        ,\n",
              "        0.        , 0.        , 0.        ]])"
            ]
          },
          "metadata": {},
          "execution_count": 12
        }
      ]
    },
    {
      "cell_type": "code",
      "source": [
        "#4. BUilding the model NN Using Keras\n",
        "    #Sequential API: Layer by layer model\n",
        "    #Functional API: Advanced structure varying use of input into layers\n",
        "    \n",
        "    #4.1 first structure\n",
        "        #28*28 input layer\n",
        "        #hidden layer 1\n",
        "        #hidden layer 2\n",
        "        #output layer\n",
        "        #10 categories\n",
        "from keras.models import Sequential\n",
        "from keras.layers import Dense"
      ],
      "metadata": {
        "id": "my1msbTGFXgv"
      },
      "execution_count": null,
      "outputs": []
    },
    {
      "cell_type": "code",
      "source": [
        "np.random.seed(42)\n",
        "tf.random.set_seed(42)\n",
        "    #observation:m 28*28 pixel"
      ],
      "metadata": {
        "id": "0h2ttCjPFh03"
      },
      "execution_count": null,
      "outputs": []
    },
    {
      "cell_type": "code",
      "source": [
        "model = keras.models.Sequential()\n",
        "model.add(keras.layers.Flatten(input_shape=[28,28]))\n",
        "model.add(keras.layers.Dense(300, activation=\"relu\"))\n",
        "model.add(keras.layers.Dense(100, activation=\"relu\"))\n",
        "model.add(keras.layers.Dense(10, activation=\"softmax\"))"
      ],
      "metadata": {
        "id": "0CP9LioeFtCF"
      },
      "execution_count": null,
      "outputs": []
    },
    {
      "cell_type": "code",
      "source": [
        "model.summary()"
      ],
      "metadata": {
        "colab": {
          "base_uri": "https://localhost:8080/"
        },
        "id": "zpl9khZhFw31",
        "outputId": "d8befbeb-939a-425b-c8d2-3453bb1ffc1f"
      },
      "execution_count": null,
      "outputs": [
        {
          "output_type": "stream",
          "name": "stdout",
          "text": [
            "Model: \"sequential\"\n",
            "_________________________________________________________________\n",
            " Layer (type)                Output Shape              Param #   \n",
            "=================================================================\n",
            " flatten (Flatten)           (None, 784)               0         \n",
            "                                                                 \n",
            " dense (Dense)               (None, 300)               235500    \n",
            "                                                                 \n",
            " dense_1 (Dense)             (None, 100)               30100     \n",
            "                                                                 \n",
            " dense_2 (Dense)             (None, 10)                1010      \n",
            "                                                                 \n",
            "=================================================================\n",
            "Total params: 266,610\n",
            "Trainable params: 266,610\n",
            "Non-trainable params: 0\n",
            "_________________________________________________________________\n"
          ]
        }
      ]
    },
    {
      "cell_type": "code",
      "source": [
        "    #Looking at the NN\n",
        "#!pip install pydot\n",
        "import pydot\n",
        "keras.utils.plot_model(model)"
      ],
      "metadata": {
        "colab": {
          "base_uri": "https://localhost:8080/",
          "height": 466
        },
        "id": "lsHq-6B4F0qn",
        "outputId": "4e743237-c925-45c7-c8c2-16530e30b11b"
      },
      "execution_count": null,
      "outputs": [
        {
          "output_type": "execute_result",
          "data": {
            "image/png": "[encoded data removed]",
            "text/plain": [
              "<IPython.core.display.Image object>"
            ]
          },
          "metadata": {},
          "execution_count": 17
        }
      ]
    },
    {
      "cell_type": "code",
      "source": [
        " #Accessing the parameters\n",
        "weights, biases = model.layers[1].get_weights()\n"
      ],
      "metadata": {
        "id": "7WxjMOTpGAXV"
      },
      "execution_count": null,
      "outputs": []
    },
    {
      "cell_type": "code",
      "source": [
        "weights"
      ],
      "metadata": {
        "colab": {
          "base_uri": "https://localhost:8080/"
        },
        "id": "AStXnOArGIr3",
        "outputId": "d2cdc46b-c742-4472-8768-451f8712ad87"
      },
      "execution_count": null,
      "outputs": [
        {
          "output_type": "execute_result",
          "data": {
            "text/plain": [
              "array([[ 0.02448617, -0.00877795, -0.02189048, ..., -0.02766046,\n",
              "         0.03859074, -0.06889391],\n",
              "       [ 0.00476504, -0.03105379, -0.0586676 , ...,  0.00602964,\n",
              "        -0.02763776, -0.04165364],\n",
              "       [-0.06189284, -0.06901957,  0.07102345, ..., -0.04238207,\n",
              "         0.07121518, -0.07331658],\n",
              "       ...,\n",
              "       [-0.03048757,  0.02155137, -0.05400612, ..., -0.00113463,\n",
              "         0.00228987,  0.05581069],\n",
              "       [ 0.07061854, -0.06960931,  0.07038955, ..., -0.00384101,\n",
              "         0.00034875,  0.02878492],\n",
              "       [-0.06022581,  0.01577859, -0.02585464, ..., -0.00527829,\n",
              "         0.00272203, -0.06793761]], dtype=float32)"
            ]
          },
          "metadata": {},
          "execution_count": 20
        }
      ]
    },
    {
      "cell_type": "code",
      "source": [
        "weights.shape"
      ],
      "metadata": {
        "colab": {
          "base_uri": "https://localhost:8080/"
        },
        "id": "AUph6wBLGPqU",
        "outputId": "bad6eb7b-2496-4646-f31b-912c4eb007ac"
      },
      "execution_count": null,
      "outputs": [
        {
          "output_type": "execute_result",
          "data": {
            "text/plain": [
              "(784, 300)"
            ]
          },
          "metadata": {},
          "execution_count": 21
        }
      ]
    },
    {
      "cell_type": "code",
      "source": [
        "biases"
      ],
      "metadata": {
        "colab": {
          "base_uri": "https://localhost:8080/"
        },
        "id": "VoCJAdf9GThG",
        "outputId": "05022553-8800-4920-8aff-d55e4c834c7e"
      },
      "execution_count": null,
      "outputs": [
        {
          "output_type": "execute_result",
          "data": {
            "text/plain": [
              "array([0., 0., 0., 0., 0., 0., 0., 0., 0., 0., 0., 0., 0., 0., 0., 0., 0.,\n",
              "       0., 0., 0., 0., 0., 0., 0., 0., 0., 0., 0., 0., 0., 0., 0., 0., 0.,\n",
              "       0., 0., 0., 0., 0., 0., 0., 0., 0., 0., 0., 0., 0., 0., 0., 0., 0.,\n",
              "       0., 0., 0., 0., 0., 0., 0., 0., 0., 0., 0., 0., 0., 0., 0., 0., 0.,\n",
              "       0., 0., 0., 0., 0., 0., 0., 0., 0., 0., 0., 0., 0., 0., 0., 0., 0.,\n",
              "       0., 0., 0., 0., 0., 0., 0., 0., 0., 0., 0., 0., 0., 0., 0., 0., 0.,\n",
              "       0., 0., 0., 0., 0., 0., 0., 0., 0., 0., 0., 0., 0., 0., 0., 0., 0.,\n",
              "       0., 0., 0., 0., 0., 0., 0., 0., 0., 0., 0., 0., 0., 0., 0., 0., 0.,\n",
              "       0., 0., 0., 0., 0., 0., 0., 0., 0., 0., 0., 0., 0., 0., 0., 0., 0.,\n",
              "       0., 0., 0., 0., 0., 0., 0., 0., 0., 0., 0., 0., 0., 0., 0., 0., 0.,\n",
              "       0., 0., 0., 0., 0., 0., 0., 0., 0., 0., 0., 0., 0., 0., 0., 0., 0.,\n",
              "       0., 0., 0., 0., 0., 0., 0., 0., 0., 0., 0., 0., 0., 0., 0., 0., 0.,\n",
              "       0., 0., 0., 0., 0., 0., 0., 0., 0., 0., 0., 0., 0., 0., 0., 0., 0.,\n",
              "       0., 0., 0., 0., 0., 0., 0., 0., 0., 0., 0., 0., 0., 0., 0., 0., 0.,\n",
              "       0., 0., 0., 0., 0., 0., 0., 0., 0., 0., 0., 0., 0., 0., 0., 0., 0.,\n",
              "       0., 0., 0., 0., 0., 0., 0., 0., 0., 0., 0., 0., 0., 0., 0., 0., 0.,\n",
              "       0., 0., 0., 0., 0., 0., 0., 0., 0., 0., 0., 0., 0., 0., 0., 0., 0.,\n",
              "       0., 0., 0., 0., 0., 0., 0., 0., 0., 0., 0.], dtype=float32)"
            ]
          },
          "metadata": {},
          "execution_count": 22
        }
      ]
    },
    {
      "cell_type": "code",
      "source": [
        "biases.shape"
      ],
      "metadata": {
        "colab": {
          "base_uri": "https://localhost:8080/"
        },
        "id": "H2peh77iGXNA",
        "outputId": "6b998fe8-a2ce-4148-e6b9-1e3002a8db49"
      },
      "execution_count": null,
      "outputs": [
        {
          "output_type": "execute_result",
          "data": {
            "text/plain": [
              "(300,)"
            ]
          },
          "metadata": {},
          "execution_count": 23
        }
      ]
    },
    {
      "cell_type": "code",
      "source": [
        "#5. Compiling and Training the Model\n",
        "model.compile(loss=\"sparse_categorical_crossentropy\",\n",
        "              optimizer =\"sgd\",\n",
        "              metrics=[\"accuracy\"])"
      ],
      "metadata": {
        "id": "Ko27UrnlGZg0"
      },
      "execution_count": null,
      "outputs": []
    },
    {
      "cell_type": "code",
      "source": [
        "model_history = model.fit(X_train, y_train, epochs=40,\n",
        "                          validation_data = (X_valid, y_valid))"
      ],
      "metadata": {
        "colab": {
          "base_uri": "https://localhost:8080/"
        },
        "id": "R_YSOYX3O5zI",
        "outputId": "64b3b135-d617-4bae-9e59-ae6457cc1ce2"
      },
      "execution_count": null,
      "outputs": [
        {
          "output_type": "stream",
          "name": "stdout",
          "text": [
            "Epoch 1/100\n",
            "1719/1719 [==============================] - 5s 3ms/step - loss: 0.0014 - accuracy: 1.0000 - val_loss: 0.6247 - val_accuracy: 0.9030\n",
            "Epoch 2/100\n",
            "1719/1719 [==============================] - 5s 3ms/step - loss: 0.0014 - accuracy: 1.0000 - val_loss: 0.6326 - val_accuracy: 0.9028\n",
            "Epoch 3/100\n",
            "1719/1719 [==============================] - 5s 3ms/step - loss: 0.0014 - accuracy: 1.0000 - val_loss: 0.6307 - val_accuracy: 0.9042\n",
            "Epoch 4/100\n",
            "1719/1719 [==============================] - 5s 3ms/step - loss: 0.0013 - accuracy: 1.0000 - val_loss: 0.6284 - val_accuracy: 0.9024\n",
            "Epoch 5/100\n",
            "1719/1719 [==============================] - 5s 3ms/step - loss: 0.0014 - accuracy: 1.0000 - val_loss: 0.6325 - val_accuracy: 0.9018\n",
            "Epoch 6/100\n",
            "1719/1719 [==============================] - 5s 3ms/step - loss: 0.0014 - accuracy: 1.0000 - val_loss: 0.6353 - val_accuracy: 0.9028\n",
            "Epoch 7/100\n",
            "1719/1719 [==============================] - 5s 3ms/step - loss: 0.0013 - accuracy: 1.0000 - val_loss: 0.6341 - val_accuracy: 0.9020\n",
            "Epoch 8/100\n",
            "1719/1719 [==============================] - 6s 3ms/step - loss: 0.0013 - accuracy: 1.0000 - val_loss: 0.6327 - val_accuracy: 0.9028\n",
            "Epoch 9/100\n",
            "1719/1719 [==============================] - 5s 3ms/step - loss: 0.0013 - accuracy: 1.0000 - val_loss: 0.6369 - val_accuracy: 0.9040\n",
            "Epoch 10/100\n",
            "1719/1719 [==============================] - 6s 3ms/step - loss: 0.0013 - accuracy: 1.0000 - val_loss: 0.6355 - val_accuracy: 0.9024\n",
            "Epoch 11/100\n",
            "1719/1719 [==============================] - 6s 3ms/step - loss: 0.0013 - accuracy: 1.0000 - val_loss: 0.6370 - val_accuracy: 0.9024\n",
            "Epoch 12/100\n",
            "1719/1719 [==============================] - 6s 4ms/step - loss: 0.0012 - accuracy: 1.0000 - val_loss: 0.6403 - val_accuracy: 0.9012\n",
            "Epoch 13/100\n",
            "1719/1719 [==============================] - 6s 3ms/step - loss: 0.0012 - accuracy: 1.0000 - val_loss: 0.6364 - val_accuracy: 0.9032\n",
            "Epoch 14/100\n",
            "1719/1719 [==============================] - 5s 3ms/step - loss: 0.0012 - accuracy: 1.0000 - val_loss: 0.6342 - val_accuracy: 0.9024\n",
            "Epoch 15/100\n",
            "1719/1719 [==============================] - 6s 3ms/step - loss: 0.0012 - accuracy: 1.0000 - val_loss: 0.6407 - val_accuracy: 0.9042\n",
            "Epoch 16/100\n",
            "1719/1719 [==============================] - 6s 3ms/step - loss: 0.0012 - accuracy: 1.0000 - val_loss: 0.6415 - val_accuracy: 0.9038\n",
            "Epoch 17/100\n",
            "1719/1719 [==============================] - 6s 3ms/step - loss: 0.0012 - accuracy: 1.0000 - val_loss: 0.6434 - val_accuracy: 0.9030\n",
            "Epoch 18/100\n",
            "1719/1719 [==============================] - 5s 3ms/step - loss: 0.0012 - accuracy: 1.0000 - val_loss: 0.6416 - val_accuracy: 0.9040\n",
            "Epoch 19/100\n",
            "1719/1719 [==============================] - 5s 3ms/step - loss: 0.0012 - accuracy: 1.0000 - val_loss: 0.6438 - val_accuracy: 0.9030\n",
            "Epoch 20/100\n",
            "1719/1719 [==============================] - 5s 3ms/step - loss: 0.0012 - accuracy: 1.0000 - val_loss: 0.6455 - val_accuracy: 0.9034\n",
            "Epoch 21/100\n",
            "1719/1719 [==============================] - 5s 3ms/step - loss: 0.0011 - accuracy: 1.0000 - val_loss: 0.6446 - val_accuracy: 0.9020\n",
            "Epoch 22/100\n",
            "1719/1719 [==============================] - 6s 3ms/step - loss: 0.0011 - accuracy: 1.0000 - val_loss: 0.6459 - val_accuracy: 0.9024\n",
            "Epoch 23/100\n",
            "1719/1719 [==============================] - 5s 3ms/step - loss: 0.0011 - accuracy: 1.0000 - val_loss: 0.6439 - val_accuracy: 0.9026\n",
            "Epoch 24/100\n",
            "1719/1719 [==============================] - 6s 3ms/step - loss: 0.0011 - accuracy: 1.0000 - val_loss: 0.6463 - val_accuracy: 0.9034\n",
            "Epoch 25/100\n",
            "1719/1719 [==============================] - 6s 4ms/step - loss: 0.0011 - accuracy: 1.0000 - val_loss: 0.6464 - val_accuracy: 0.9028\n",
            "Epoch 26/100\n",
            "1719/1719 [==============================] - 6s 3ms/step - loss: 0.0011 - accuracy: 1.0000 - val_loss: 0.6456 - val_accuracy: 0.9016\n",
            "Epoch 27/100\n",
            "1719/1719 [==============================] - 6s 3ms/step - loss: 0.0011 - accuracy: 1.0000 - val_loss: 0.6472 - val_accuracy: 0.9030\n",
            "Epoch 28/100\n",
            "1719/1719 [==============================] - 5s 3ms/step - loss: 0.0011 - accuracy: 1.0000 - val_loss: 0.6547 - val_accuracy: 0.9018\n",
            "Epoch 29/100\n",
            "1719/1719 [==============================] - 5s 3ms/step - loss: 0.0011 - accuracy: 1.0000 - val_loss: 0.6542 - val_accuracy: 0.9030\n",
            "Epoch 30/100\n",
            "1719/1719 [==============================] - 5s 3ms/step - loss: 0.0011 - accuracy: 1.0000 - val_loss: 0.6543 - val_accuracy: 0.9016\n",
            "Epoch 31/100\n",
            "1719/1719 [==============================] - 5s 3ms/step - loss: 0.0011 - accuracy: 1.0000 - val_loss: 0.6500 - val_accuracy: 0.9022\n",
            "Epoch 32/100\n",
            "1719/1719 [==============================] - 5s 3ms/step - loss: 0.0010 - accuracy: 1.0000 - val_loss: 0.6511 - val_accuracy: 0.9038\n",
            "Epoch 33/100\n",
            "1719/1719 [==============================] - 5s 3ms/step - loss: 0.0011 - accuracy: 1.0000 - val_loss: 0.6532 - val_accuracy: 0.9028\n",
            "Epoch 34/100\n",
            "1719/1719 [==============================] - 5s 3ms/step - loss: 0.0010 - accuracy: 1.0000 - val_loss: 0.6563 - val_accuracy: 0.9026\n",
            "Epoch 35/100\n",
            "1719/1719 [==============================] - 5s 3ms/step - loss: 0.0010 - accuracy: 1.0000 - val_loss: 0.6540 - val_accuracy: 0.9024\n",
            "Epoch 36/100\n",
            "1719/1719 [==============================] - 5s 3ms/step - loss: 0.0010 - accuracy: 1.0000 - val_loss: 0.6541 - val_accuracy: 0.9022\n",
            "Epoch 37/100\n",
            "1719/1719 [==============================] - 6s 3ms/step - loss: 0.0010 - accuracy: 1.0000 - val_loss: 0.6568 - val_accuracy: 0.9022\n",
            "Epoch 38/100\n",
            "1719/1719 [==============================] - 5s 3ms/step - loss: 9.9429e-04 - accuracy: 1.0000 - val_loss: 0.6548 - val_accuracy: 0.9030\n",
            "Epoch 39/100\n",
            "1719/1719 [==============================] - 5s 3ms/step - loss: 9.9610e-04 - accuracy: 1.0000 - val_loss: 0.6575 - val_accuracy: 0.9032\n",
            "Epoch 40/100\n",
            "1719/1719 [==============================] - 5s 3ms/step - loss: 9.8617e-04 - accuracy: 1.0000 - val_loss: 0.6579 - val_accuracy: 0.9028\n",
            "Epoch 41/100\n",
            "1719/1719 [==============================] - 6s 3ms/step - loss: 9.7454e-04 - accuracy: 1.0000 - val_loss: 0.6580 - val_accuracy: 0.9022\n",
            "Epoch 42/100\n",
            "1719/1719 [==============================] - 5s 3ms/step - loss: 9.7370e-04 - accuracy: 1.0000 - val_loss: 0.6588 - val_accuracy: 0.9028\n",
            "Epoch 43/100\n",
            "1719/1719 [==============================] - 5s 3ms/step - loss: 9.6180e-04 - accuracy: 1.0000 - val_loss: 0.6590 - val_accuracy: 0.9024\n",
            "Epoch 44/100\n",
            "1719/1719 [==============================] - 5s 3ms/step - loss: 9.5605e-04 - accuracy: 1.0000 - val_loss: 0.6634 - val_accuracy: 0.9028\n",
            "Epoch 45/100\n",
            "1719/1719 [==============================] - 5s 3ms/step - loss: 9.4886e-04 - accuracy: 1.0000 - val_loss: 0.6588 - val_accuracy: 0.9032\n",
            "Epoch 46/100\n",
            "1719/1719 [==============================] - 5s 3ms/step - loss: 9.3436e-04 - accuracy: 1.0000 - val_loss: 0.6633 - val_accuracy: 0.9024\n",
            "Epoch 47/100\n",
            "1719/1719 [==============================] - 5s 3ms/step - loss: 9.3828e-04 - accuracy: 1.0000 - val_loss: 0.6615 - val_accuracy: 0.9026\n",
            "Epoch 48/100\n",
            "1719/1719 [==============================] - 6s 3ms/step - loss: 9.2269e-04 - accuracy: 1.0000 - val_loss: 0.6620 - val_accuracy: 0.9020\n",
            "Epoch 49/100\n",
            "1719/1719 [==============================] - 6s 3ms/step - loss: 9.1565e-04 - accuracy: 1.0000 - val_loss: 0.6636 - val_accuracy: 0.9022\n",
            "Epoch 50/100\n",
            "1719/1719 [==============================] - 6s 3ms/step - loss: 9.2673e-04 - accuracy: 1.0000 - val_loss: 0.6622 - val_accuracy: 0.9034\n",
            "Epoch 51/100\n",
            "1719/1719 [==============================] - 6s 3ms/step - loss: 9.1259e-04 - accuracy: 1.0000 - val_loss: 0.6625 - val_accuracy: 0.9032\n",
            "Epoch 52/100\n",
            "1719/1719 [==============================] - 5s 3ms/step - loss: 9.0286e-04 - accuracy: 1.0000 - val_loss: 0.6646 - val_accuracy: 0.9030\n",
            "Epoch 53/100\n",
            "1719/1719 [==============================] - 6s 3ms/step - loss: 8.9238e-04 - accuracy: 1.0000 - val_loss: 0.6699 - val_accuracy: 0.9038\n",
            "Epoch 54/100\n",
            "1719/1719 [==============================] - 6s 3ms/step - loss: 8.9131e-04 - accuracy: 1.0000 - val_loss: 0.6627 - val_accuracy: 0.9020\n",
            "Epoch 55/100\n",
            "1719/1719 [==============================] - 6s 3ms/step - loss: 8.8122e-04 - accuracy: 1.0000 - val_loss: 0.6651 - val_accuracy: 0.9020\n",
            "Epoch 56/100\n",
            "1719/1719 [==============================] - 6s 3ms/step - loss: 8.7418e-04 - accuracy: 1.0000 - val_loss: 0.6678 - val_accuracy: 0.9032\n",
            "Epoch 57/100\n",
            "1719/1719 [==============================] - 5s 3ms/step - loss: 8.7509e-04 - accuracy: 1.0000 - val_loss: 0.6694 - val_accuracy: 0.9038\n",
            "Epoch 58/100\n",
            "1719/1719 [==============================] - 6s 3ms/step - loss: 8.6630e-04 - accuracy: 1.0000 - val_loss: 0.6700 - val_accuracy: 0.9030\n",
            "Epoch 59/100\n",
            "1719/1719 [==============================] - 6s 3ms/step - loss: 8.6048e-04 - accuracy: 1.0000 - val_loss: 0.6701 - val_accuracy: 0.9024\n",
            "Epoch 60/100\n",
            "1719/1719 [==============================] - 5s 3ms/step - loss: 8.5030e-04 - accuracy: 1.0000 - val_loss: 0.6716 - val_accuracy: 0.9026\n",
            "Epoch 61/100\n",
            "1719/1719 [==============================] - 5s 3ms/step - loss: 8.5031e-04 - accuracy: 1.0000 - val_loss: 0.6688 - val_accuracy: 0.9024\n",
            "Epoch 62/100\n",
            "1719/1719 [==============================] - 5s 3ms/step - loss: 8.4274e-04 - accuracy: 1.0000 - val_loss: 0.6697 - val_accuracy: 0.9026\n",
            "Epoch 63/100\n",
            "1719/1719 [==============================] - 5s 3ms/step - loss: 8.3793e-04 - accuracy: 1.0000 - val_loss: 0.6711 - val_accuracy: 0.9040\n",
            "Epoch 64/100\n",
            "1719/1719 [==============================] - 5s 3ms/step - loss: 8.2980e-04 - accuracy: 1.0000 - val_loss: 0.6702 - val_accuracy: 0.9026\n",
            "Epoch 65/100\n",
            "1719/1719 [==============================] - 6s 3ms/step - loss: 8.2005e-04 - accuracy: 1.0000 - val_loss: 0.6713 - val_accuracy: 0.9036\n",
            "Epoch 66/100\n",
            "1719/1719 [==============================] - 5s 3ms/step - loss: 8.2385e-04 - accuracy: 1.0000 - val_loss: 0.6723 - val_accuracy: 0.9016\n",
            "Epoch 67/100\n",
            "1719/1719 [==============================] - 5s 3ms/step - loss: 8.1464e-04 - accuracy: 1.0000 - val_loss: 0.6715 - val_accuracy: 0.9018\n",
            "Epoch 68/100\n",
            "1719/1719 [==============================] - 5s 3ms/step - loss: 8.0757e-04 - accuracy: 1.0000 - val_loss: 0.6733 - val_accuracy: 0.9038\n",
            "Epoch 69/100\n",
            "1719/1719 [==============================] - 5s 3ms/step - loss: 8.0811e-04 - accuracy: 1.0000 - val_loss: 0.6724 - val_accuracy: 0.9026\n",
            "Epoch 70/100\n",
            "1719/1719 [==============================] - 6s 3ms/step - loss: 7.9881e-04 - accuracy: 1.0000 - val_loss: 0.6775 - val_accuracy: 0.9030\n",
            "Epoch 71/100\n",
            "1719/1719 [==============================] - 5s 3ms/step - loss: 7.9615e-04 - accuracy: 1.0000 - val_loss: 0.6738 - val_accuracy: 0.9030\n",
            "Epoch 72/100\n",
            "1719/1719 [==============================] - 6s 3ms/step - loss: 7.8831e-04 - accuracy: 1.0000 - val_loss: 0.6752 - val_accuracy: 0.9024\n",
            "Epoch 73/100\n",
            "1719/1719 [==============================] - 5s 3ms/step - loss: 7.8571e-04 - accuracy: 1.0000 - val_loss: 0.6768 - val_accuracy: 0.9020\n",
            "Epoch 74/100\n",
            "1719/1719 [==============================] - 5s 3ms/step - loss: 7.7963e-04 - accuracy: 1.0000 - val_loss: 0.6765 - val_accuracy: 0.9020\n",
            "Epoch 75/100\n",
            "1719/1719 [==============================] - 5s 3ms/step - loss: 7.7444e-04 - accuracy: 1.0000 - val_loss: 0.6786 - val_accuracy: 0.9012\n",
            "Epoch 76/100\n",
            "1719/1719 [==============================] - 6s 3ms/step - loss: 7.7208e-04 - accuracy: 1.0000 - val_loss: 0.6787 - val_accuracy: 0.9028\n",
            "Epoch 77/100\n",
            "1719/1719 [==============================] - 6s 3ms/step - loss: 7.6822e-04 - accuracy: 1.0000 - val_loss: 0.6782 - val_accuracy: 0.9016\n",
            "Epoch 78/100\n",
            "1719/1719 [==============================] - 5s 3ms/step - loss: 7.6502e-04 - accuracy: 1.0000 - val_loss: 0.6775 - val_accuracy: 0.9028\n",
            "Epoch 79/100\n",
            "1719/1719 [==============================] - 5s 3ms/step - loss: 7.5483e-04 - accuracy: 1.0000 - val_loss: 0.6787 - val_accuracy: 0.9024\n",
            "Epoch 80/100\n",
            "1719/1719 [==============================] - 6s 3ms/step - loss: 7.5409e-04 - accuracy: 1.0000 - val_loss: 0.6795 - val_accuracy: 0.9022\n",
            "Epoch 81/100\n",
            "1719/1719 [==============================] - 6s 3ms/step - loss: 7.4653e-04 - accuracy: 1.0000 - val_loss: 0.6775 - val_accuracy: 0.9024\n",
            "Epoch 82/100\n",
            "1719/1719 [==============================] - 6s 3ms/step - loss: 7.4337e-04 - accuracy: 1.0000 - val_loss: 0.6814 - val_accuracy: 0.9018\n",
            "Epoch 83/100\n",
            "1719/1719 [==============================] - 5s 3ms/step - loss: 7.3758e-04 - accuracy: 1.0000 - val_loss: 0.6810 - val_accuracy: 0.9026\n",
            "Epoch 84/100\n",
            "1719/1719 [==============================] - 5s 3ms/step - loss: 7.3299e-04 - accuracy: 1.0000 - val_loss: 0.6851 - val_accuracy: 0.9016\n",
            "Epoch 85/100\n",
            "1719/1719 [==============================] - 5s 3ms/step - loss: 7.2959e-04 - accuracy: 1.0000 - val_loss: 0.6824 - val_accuracy: 0.9022\n",
            "Epoch 86/100\n",
            "1719/1719 [==============================] - 5s 3ms/step - loss: 7.2503e-04 - accuracy: 1.0000 - val_loss: 0.6833 - val_accuracy: 0.9020\n",
            "Epoch 87/100\n",
            "1719/1719 [==============================] - 6s 3ms/step - loss: 7.2274e-04 - accuracy: 1.0000 - val_loss: 0.6852 - val_accuracy: 0.9020\n",
            "Epoch 88/100\n",
            "1719/1719 [==============================] - 5s 3ms/step - loss: 7.1530e-04 - accuracy: 1.0000 - val_loss: 0.6842 - val_accuracy: 0.9024\n",
            "Epoch 89/100\n",
            "1719/1719 [==============================] - 5s 3ms/step - loss: 7.1368e-04 - accuracy: 1.0000 - val_loss: 0.6850 - val_accuracy: 0.9024\n",
            "Epoch 90/100\n",
            "1719/1719 [==============================] - 5s 3ms/step - loss: 7.0869e-04 - accuracy: 1.0000 - val_loss: 0.6853 - val_accuracy: 0.9024\n",
            "Epoch 91/100\n",
            "1719/1719 [==============================] - 5s 3ms/step - loss: 7.0255e-04 - accuracy: 1.0000 - val_loss: 0.6833 - val_accuracy: 0.9030\n",
            "Epoch 92/100\n",
            "1719/1719 [==============================] - 6s 3ms/step - loss: 7.0036e-04 - accuracy: 1.0000 - val_loss: 0.6880 - val_accuracy: 0.9026\n",
            "Epoch 93/100\n",
            "1719/1719 [==============================] - 6s 3ms/step - loss: 6.9737e-04 - accuracy: 1.0000 - val_loss: 0.6859 - val_accuracy: 0.9024\n",
            "Epoch 94/100\n",
            "1719/1719 [==============================] - 5s 3ms/step - loss: 6.9210e-04 - accuracy: 1.0000 - val_loss: 0.6853 - val_accuracy: 0.9038\n",
            "Epoch 95/100\n",
            "1719/1719 [==============================] - 5s 3ms/step - loss: 6.9116e-04 - accuracy: 1.0000 - val_loss: 0.6870 - val_accuracy: 0.9020\n",
            "Epoch 96/100\n",
            "1719/1719 [==============================] - 5s 3ms/step - loss: 6.8541e-04 - accuracy: 1.0000 - val_loss: 0.6869 - val_accuracy: 0.9020\n",
            "Epoch 97/100\n",
            "1719/1719 [==============================] - 6s 3ms/step - loss: 6.8185e-04 - accuracy: 1.0000 - val_loss: 0.6885 - val_accuracy: 0.9018\n",
            "Epoch 98/100\n",
            "1719/1719 [==============================] - 6s 3ms/step - loss: 6.7885e-04 - accuracy: 1.0000 - val_loss: 0.6887 - val_accuracy: 0.9026\n",
            "Epoch 99/100\n",
            "1719/1719 [==============================] - 5s 3ms/step - loss: 6.7330e-04 - accuracy: 1.0000 - val_loss: 0.6897 - val_accuracy: 0.9020\n",
            "Epoch 100/100\n",
            "1719/1719 [==============================] - 5s 3ms/step - loss: 6.7160e-04 - accuracy: 1.0000 - val_loss: 0.6890 - val_accuracy: 0.9014\n"
          ]
        }
      ]
    },
    {
      "cell_type": "code",
      "source": [
        "model_history.params"
      ],
      "metadata": {
        "colab": {
          "base_uri": "https://localhost:8080/"
        },
        "id": "lbIS3Z31HJ2V",
        "outputId": "8dff2e6f-2aed-4027-b843-197d5dae10ec"
      },
      "execution_count": null,
      "outputs": [
        {
          "output_type": "execute_result",
          "data": {
            "text/plain": [
              "{'verbose': 1, 'epochs': 100, 'steps': 1719}"
            ]
          },
          "metadata": {},
          "execution_count": 33
        }
      ]
    },
    {
      "cell_type": "code",
      "source": [
        "model_history.history"
      ],
      "metadata": {
        "colab": {
          "base_uri": "https://localhost:8080/"
        },
        "id": "4wWkAfC1HOgE",
        "outputId": "7bcc6fd4-42c1-4fc0-e7ba-fc29918846d9"
      },
      "execution_count": null,
      "outputs": [
        {
          "output_type": "execute_result",
          "data": {
            "text/plain": [
              "{'loss': [0.001427075476385653,\n",
              "  0.0014171757502481341,\n",
              "  0.0014070497127249837,\n",
              "  0.0013476352905854583,\n",
              "  0.0013598413206636906,\n",
              "  0.0013785181799903512,\n",
              "  0.0013401171891018748,\n",
              "  0.0013264681911095977,\n",
              "  0.0013055294984951615,\n",
              "  0.0012924396432936192,\n",
              "  0.001277637667953968,\n",
              "  0.0012389994226396084,\n",
              "  0.0012424266897141933,\n",
              "  0.001224326784722507,\n",
              "  0.0012119170278310776,\n",
              "  0.0012314622290432453,\n",
              "  0.0011943052522838116,\n",
              "  0.0011982698924839497,\n",
              "  0.0011718954192474484,\n",
              "  0.0011686468496918678,\n",
              "  0.001148480107076466,\n",
              "  0.0011449516750872135,\n",
              "  0.001139851869083941,\n",
              "  0.0011327554238960147,\n",
              "  0.0011082903947681189,\n",
              "  0.0011089026229456067,\n",
              "  0.0010971375741064548,\n",
              "  0.0010853414423763752,\n",
              "  0.0010794379049912095,\n",
              "  0.0010685132583603263,\n",
              "  0.0010607043514028192,\n",
              "  0.0010448795510455966,\n",
              "  0.0010518227936699986,\n",
              "  0.001028361963108182,\n",
              "  0.0010191431501880288,\n",
              "  0.0010215393267571926,\n",
              "  0.0010110089788213372,\n",
              "  0.0009942904580384493,\n",
              "  0.0009961039759218693,\n",
              "  0.0009861732833087444,\n",
              "  0.0009745442657731473,\n",
              "  0.000973704329226166,\n",
              "  0.0009618044132366776,\n",
              "  0.0009560462785884738,\n",
              "  0.0009488589130342007,\n",
              "  0.00093436473980546,\n",
              "  0.0009382834541611373,\n",
              "  0.0009226864203810692,\n",
              "  0.0009156487067230046,\n",
              "  0.0009267341811209917,\n",
              "  0.0009125894284807146,\n",
              "  0.0009028565254993737,\n",
              "  0.0008923767018131912,\n",
              "  0.0008913134224712849,\n",
              "  0.0008812168962322176,\n",
              "  0.000874181801918894,\n",
              "  0.0008750858251005411,\n",
              "  0.0008663022890686989,\n",
              "  0.0008604768663644791,\n",
              "  0.0008502972777932882,\n",
              "  0.000850314274430275,\n",
              "  0.0008427409920841455,\n",
              "  0.0008379335049539804,\n",
              "  0.0008297989843413234,\n",
              "  0.0008200459415093064,\n",
              "  0.0008238476584665477,\n",
              "  0.0008146419422701001,\n",
              "  0.0008075658115558326,\n",
              "  0.0008081072010099888,\n",
              "  0.0007988112629391253,\n",
              "  0.000796149019151926,\n",
              "  0.0007883060607127845,\n",
              "  0.0007857098244130611,\n",
              "  0.0007796324207447469,\n",
              "  0.0007744397735223174,\n",
              "  0.0007720834692008793,\n",
              "  0.0007682216237299144,\n",
              "  0.0007650195620954037,\n",
              "  0.0007548269932158291,\n",
              "  0.0007540868828073144,\n",
              "  0.0007465259986929595,\n",
              "  0.0007433700375258923,\n",
              "  0.0007375784334726632,\n",
              "  0.0007329881773330271,\n",
              "  0.0007295855903066695,\n",
              "  0.0007250302587635815,\n",
              "  0.0007227399619296193,\n",
              "  0.0007153031183406711,\n",
              "  0.0007136802887544036,\n",
              "  0.0007086897385306656,\n",
              "  0.0007025467348285019,\n",
              "  0.0007003609207458794,\n",
              "  0.0006973706185817719,\n",
              "  0.0006920995656400919,\n",
              "  0.0006911574746482074,\n",
              "  0.0006854134262539446,\n",
              "  0.0006818523979745805,\n",
              "  0.0006788473110646009,\n",
              "  0.0006733015761710703,\n",
              "  0.000671596615575254],\n",
              " 'accuracy': [1.0,\n",
              "  1.0,\n",
              "  1.0,\n",
              "  1.0,\n",
              "  1.0,\n",
              "  1.0,\n",
              "  1.0,\n",
              "  1.0,\n",
              "  1.0,\n",
              "  1.0,\n",
              "  1.0,\n",
              "  1.0,\n",
              "  1.0,\n",
              "  1.0,\n",
              "  1.0,\n",
              "  1.0,\n",
              "  1.0,\n",
              "  1.0,\n",
              "  1.0,\n",
              "  1.0,\n",
              "  1.0,\n",
              "  1.0,\n",
              "  1.0,\n",
              "  1.0,\n",
              "  1.0,\n",
              "  1.0,\n",
              "  1.0,\n",
              "  1.0,\n",
              "  1.0,\n",
              "  1.0,\n",
              "  1.0,\n",
              "  1.0,\n",
              "  1.0,\n",
              "  1.0,\n",
              "  1.0,\n",
              "  1.0,\n",
              "  1.0,\n",
              "  1.0,\n",
              "  1.0,\n",
              "  1.0,\n",
              "  1.0,\n",
              "  1.0,\n",
              "  1.0,\n",
              "  1.0,\n",
              "  1.0,\n",
              "  1.0,\n",
              "  1.0,\n",
              "  1.0,\n",
              "  1.0,\n",
              "  1.0,\n",
              "  1.0,\n",
              "  1.0,\n",
              "  1.0,\n",
              "  1.0,\n",
              "  1.0,\n",
              "  1.0,\n",
              "  1.0,\n",
              "  1.0,\n",
              "  1.0,\n",
              "  1.0,\n",
              "  1.0,\n",
              "  1.0,\n",
              "  1.0,\n",
              "  1.0,\n",
              "  1.0,\n",
              "  1.0,\n",
              "  1.0,\n",
              "  1.0,\n",
              "  1.0,\n",
              "  1.0,\n",
              "  1.0,\n",
              "  1.0,\n",
              "  1.0,\n",
              "  1.0,\n",
              "  1.0,\n",
              "  1.0,\n",
              "  1.0,\n",
              "  1.0,\n",
              "  1.0,\n",
              "  1.0,\n",
              "  1.0,\n",
              "  1.0,\n",
              "  1.0,\n",
              "  1.0,\n",
              "  1.0,\n",
              "  1.0,\n",
              "  1.0,\n",
              "  1.0,\n",
              "  1.0,\n",
              "  1.0,\n",
              "  1.0,\n",
              "  1.0,\n",
              "  1.0,\n",
              "  1.0,\n",
              "  1.0,\n",
              "  1.0,\n",
              "  1.0,\n",
              "  1.0,\n",
              "  1.0,\n",
              "  1.0],\n",
              " 'val_loss': [0.6247361898422241,\n",
              "  0.6326152682304382,\n",
              "  0.6307432651519775,\n",
              "  0.6283811330795288,\n",
              "  0.6325231790542603,\n",
              "  0.6352922320365906,\n",
              "  0.6340621709823608,\n",
              "  0.6326552033424377,\n",
              "  0.636897623538971,\n",
              "  0.6355318427085876,\n",
              "  0.6369873285293579,\n",
              "  0.6403000354766846,\n",
              "  0.6364169716835022,\n",
              "  0.6341621279716492,\n",
              "  0.6406785845756531,\n",
              "  0.6415157914161682,\n",
              "  0.6433525085449219,\n",
              "  0.6415681838989258,\n",
              "  0.6437994241714478,\n",
              "  0.6454827189445496,\n",
              "  0.6445956826210022,\n",
              "  0.6459181904792786,\n",
              "  0.6439193487167358,\n",
              "  0.6462865471839905,\n",
              "  0.6464422941207886,\n",
              "  0.645560622215271,\n",
              "  0.6471816301345825,\n",
              "  0.6547431945800781,\n",
              "  0.6541818380355835,\n",
              "  0.6542657017707825,\n",
              "  0.6499985456466675,\n",
              "  0.6511160135269165,\n",
              "  0.6531643271446228,\n",
              "  0.65626060962677,\n",
              "  0.6539703607559204,\n",
              "  0.654106855392456,\n",
              "  0.6568142771720886,\n",
              "  0.6547749042510986,\n",
              "  0.657538652420044,\n",
              "  0.6579029560089111,\n",
              "  0.6580386757850647,\n",
              "  0.658791184425354,\n",
              "  0.6590467691421509,\n",
              "  0.6634331345558167,\n",
              "  0.65880286693573,\n",
              "  0.6633169651031494,\n",
              "  0.6615359783172607,\n",
              "  0.6620290279388428,\n",
              "  0.6636048555374146,\n",
              "  0.6622092723846436,\n",
              "  0.6625052094459534,\n",
              "  0.6646134257316589,\n",
              "  0.6699405908584595,\n",
              "  0.6626688838005066,\n",
              "  0.665098249912262,\n",
              "  0.6677553653717041,\n",
              "  0.6694476008415222,\n",
              "  0.6699831485748291,\n",
              "  0.6700881719589233,\n",
              "  0.6715875267982483,\n",
              "  0.6687963604927063,\n",
              "  0.6697062253952026,\n",
              "  0.6710816621780396,\n",
              "  0.6702398657798767,\n",
              "  0.6713210940361023,\n",
              "  0.6722560524940491,\n",
              "  0.6715467572212219,\n",
              "  0.6733006238937378,\n",
              "  0.672430157661438,\n",
              "  0.6774904727935791,\n",
              "  0.6738390922546387,\n",
              "  0.6751651763916016,\n",
              "  0.6767544150352478,\n",
              "  0.6764596104621887,\n",
              "  0.678619921207428,\n",
              "  0.6787180304527283,\n",
              "  0.6782343983650208,\n",
              "  0.6775148510932922,\n",
              "  0.6787278652191162,\n",
              "  0.6794824004173279,\n",
              "  0.6775227189064026,\n",
              "  0.6814196705818176,\n",
              "  0.6810013055801392,\n",
              "  0.6850806474685669,\n",
              "  0.6823672652244568,\n",
              "  0.6832997798919678,\n",
              "  0.6852144598960876,\n",
              "  0.6841985583305359,\n",
              "  0.6849917769432068,\n",
              "  0.6853216886520386,\n",
              "  0.6833181977272034,\n",
              "  0.6879557371139526,\n",
              "  0.6858535408973694,\n",
              "  0.6852627992630005,\n",
              "  0.6870115399360657,\n",
              "  0.6868573427200317,\n",
              "  0.6884894967079163,\n",
              "  0.6886662840843201,\n",
              "  0.6897340416908264,\n",
              "  0.6889603137969971],\n",
              " 'val_accuracy': [0.902999997138977,\n",
              "  0.9028000235557556,\n",
              "  0.90420001745224,\n",
              "  0.902400016784668,\n",
              "  0.9017999768257141,\n",
              "  0.9028000235557556,\n",
              "  0.9020000100135803,\n",
              "  0.9028000235557556,\n",
              "  0.9039999842643738,\n",
              "  0.902400016784668,\n",
              "  0.902400016784668,\n",
              "  0.901199996471405,\n",
              "  0.9031999707221985,\n",
              "  0.902400016784668,\n",
              "  0.90420001745224,\n",
              "  0.9038000106811523,\n",
              "  0.902999997138977,\n",
              "  0.9039999842643738,\n",
              "  0.902999997138977,\n",
              "  0.9034000039100647,\n",
              "  0.9020000100135803,\n",
              "  0.902400016784668,\n",
              "  0.9025999903678894,\n",
              "  0.9034000039100647,\n",
              "  0.9028000235557556,\n",
              "  0.9016000032424927,\n",
              "  0.902999997138977,\n",
              "  0.9017999768257141,\n",
              "  0.902999997138977,\n",
              "  0.9016000032424927,\n",
              "  0.9021999835968018,\n",
              "  0.9038000106811523,\n",
              "  0.9028000235557556,\n",
              "  0.9025999903678894,\n",
              "  0.902400016784668,\n",
              "  0.9021999835968018,\n",
              "  0.9021999835968018,\n",
              "  0.902999997138977,\n",
              "  0.9031999707221985,\n",
              "  0.9028000235557556,\n",
              "  0.9021999835968018,\n",
              "  0.9028000235557556,\n",
              "  0.902400016784668,\n",
              "  0.9028000235557556,\n",
              "  0.9031999707221985,\n",
              "  0.902400016784668,\n",
              "  0.9025999903678894,\n",
              "  0.9020000100135803,\n",
              "  0.9021999835968018,\n",
              "  0.9034000039100647,\n",
              "  0.9031999707221985,\n",
              "  0.902999997138977,\n",
              "  0.9038000106811523,\n",
              "  0.9020000100135803,\n",
              "  0.9020000100135803,\n",
              "  0.9031999707221985,\n",
              "  0.9038000106811523,\n",
              "  0.902999997138977,\n",
              "  0.902400016784668,\n",
              "  0.9025999903678894,\n",
              "  0.902400016784668,\n",
              "  0.9025999903678894,\n",
              "  0.9039999842643738,\n",
              "  0.9025999903678894,\n",
              "  0.9035999774932861,\n",
              "  0.9016000032424927,\n",
              "  0.9017999768257141,\n",
              "  0.9038000106811523,\n",
              "  0.9025999903678894,\n",
              "  0.902999997138977,\n",
              "  0.902999997138977,\n",
              "  0.902400016784668,\n",
              "  0.9020000100135803,\n",
              "  0.9020000100135803,\n",
              "  0.901199996471405,\n",
              "  0.9028000235557556,\n",
              "  0.9016000032424927,\n",
              "  0.9028000235557556,\n",
              "  0.902400016784668,\n",
              "  0.9021999835968018,\n",
              "  0.902400016784668,\n",
              "  0.9017999768257141,\n",
              "  0.9025999903678894,\n",
              "  0.9016000032424927,\n",
              "  0.9021999835968018,\n",
              "  0.9020000100135803,\n",
              "  0.9020000100135803,\n",
              "  0.902400016784668,\n",
              "  0.902400016784668,\n",
              "  0.902400016784668,\n",
              "  0.902999997138977,\n",
              "  0.9025999903678894,\n",
              "  0.902400016784668,\n",
              "  0.9038000106811523,\n",
              "  0.9020000100135803,\n",
              "  0.9020000100135803,\n",
              "  0.9017999768257141,\n",
              "  0.9025999903678894,\n",
              "  0.9020000100135803,\n",
              "  0.9014000296592712]}"
            ]
          },
          "metadata": {},
          "execution_count": 34
        }
      ]
    },
    {
      "cell_type": "code",
      "source": [
        "pd.DataFrame(model_history.history).plot(figsize=(8,5))\n",
        "plt.grid(True)\n",
        "plt.gca().set_ylim(0,1)\n",
        "plt.show()"
      ],
      "metadata": {
        "colab": {
          "base_uri": "https://localhost:8080/",
          "height": 324
        },
        "id": "nDdgx7psHSfz",
        "outputId": "d484968f-7ce9-4ef1-8a32-9a8dae07ad33"
      },
      "execution_count": null,
      "outputs": [
        {
          "output_type": "display_data",
          "data": {
            "text/plain": [
              "<Figure size 576x360 with 1 Axes>"
            ],
            "image/png": "[encoded data removed]"
          },
          "metadata": {
            "needs_background": "light"
          }
        }
      ]
    },
    {
      "cell_type": "code",
      "source": [
        "#6. Evaluation Performance and Prediction\n",
        "model.evaluate(X_test, y_test)"
      ],
      "metadata": {
        "colab": {
          "base_uri": "https://localhost:8080/"
        },
        "id": "akyltQKrMRDt",
        "outputId": "68f8c9af-aead-4183-8034-4a40bb3c2afb"
      },
      "execution_count": null,
      "outputs": [
        {
          "output_type": "stream",
          "name": "stdout",
          "text": [
            "313/313 [==============================] - 1s 2ms/step - loss: 0.7640 - accuracy: 0.8934\n"
          ]
        },
        {
          "output_type": "execute_result",
          "data": {
            "text/plain": [
              "[0.7639839053153992, 0.8934000134468079]"
            ]
          },
          "metadata": {},
          "execution_count": 36
        }
      ]
    },
    {
      "cell_type": "code",
      "source": [
        "X_new = X_test[:3]"
      ],
      "metadata": {
        "id": "C-ExV1_IKSaY"
      },
      "execution_count": null,
      "outputs": []
    },
    {
      "cell_type": "code",
      "source": [
        "y_proba = model.predict(X_new)\n",
        "y_proba.round(2)"
      ],
      "metadata": {
        "colab": {
          "base_uri": "https://localhost:8080/"
        },
        "id": "OuPalgUDKYEo",
        "outputId": "50c00549-0ebc-4b80-eecc-27e2b73cdcd4"
      },
      "execution_count": null,
      "outputs": [
        {
          "output_type": "stream",
          "name": "stdout",
          "text": [
            "1/1 [==============================] - 0s 97ms/step\n"
          ]
        },
        {
          "output_type": "execute_result",
          "data": {
            "text/plain": [
              "array([[0., 0., 0., 0., 0., 0., 0., 0., 0., 1.],\n",
              "       [0., 0., 1., 0., 0., 0., 0., 0., 0., 0.],\n",
              "       [0., 1., 0., 0., 0., 0., 0., 0., 0., 0.]], dtype=float32)"
            ]
          },
          "metadata": {},
          "execution_count": 38
        }
      ]
    },
    {
      "cell_type": "code",
      "source": [
        "y_pred = model.predict(X_new)\n",
        "y_pred\n"
      ],
      "metadata": {
        "colab": {
          "base_uri": "https://localhost:8080/"
        },
        "id": "WIGmOO46Ytun",
        "outputId": "ebba6a72-baa8-4c66-c2c4-b9939e528259"
      },
      "execution_count": null,
      "outputs": [
        {
          "output_type": "stream",
          "name": "stdout",
          "text": [
            "1/1 [==============================] - 0s 14ms/step\n"
          ]
        },
        {
          "output_type": "execute_result",
          "data": {
            "text/plain": [
              "array([9, 2, 1])"
            ]
          },
          "metadata": {},
          "execution_count": 57
        }
      ]
    },
    {
      "cell_type": "code",
      "source": [
        "classes_x=np.argmax(y_pred,axis=1)\n",
        "classes_x"
      ],
      "metadata": {
        "id": "zELcTb5YbXeR"
      },
      "execution_count": null,
      "outputs": []
    },
    {
      "cell_type": "code",
      "source": [
        "#np.array(class_names)[y_pred]\n",
        "np.argmax(model.predict(X_test), axis=-1)"
      ],
      "metadata": {
        "colab": {
          "base_uri": "https://localhost:8080/"
        },
        "id": "PphkeK9rLAiv",
        "outputId": "20c835bf-9ab1-402c-d10f-84d9d2f844ee"
      },
      "execution_count": null,
      "outputs": [
        {
          "output_type": "stream",
          "name": "stdout",
          "text": [
            "313/313 [==============================] - 0s 2ms/step\n"
          ]
        },
        {
          "output_type": "execute_result",
          "data": {
            "text/plain": [
              "array([9, 2, 1, ..., 8, 1, 5])"
            ]
          },
          "metadata": {},
          "execution_count": 59
        }
      ]
    },
    {
      "cell_type": "code",
      "source": [
        "print(plt.imshow(X_test[0]))"
      ],
      "metadata": {
        "colab": {
          "base_uri": "https://localhost:8080/",
          "height": 282
        },
        "id": "Ru5BwlMCLhNG",
        "outputId": "90dd8d39-e3a1-4aad-bb28-0145fd938e91"
      },
      "execution_count": null,
      "outputs": [
        {
          "output_type": "stream",
          "name": "stdout",
          "text": [
            "AxesImage(54,36;334.8x217.44)\n"
          ]
        },
        {
          "output_type": "display_data",
          "data": {
            "text/plain": [
              "<Figure size 432x288 with 1 Axes>"
            ],
            "image/png": "[encoded data removed]"
          },
          "metadata": {
            "needs_background": "light"
          }
        }
      ]
    },
    {
      "cell_type": "code",
      "source": [
        "print(plt.imshow(X_test[1]))"
      ],
      "metadata": {
        "colab": {
          "base_uri": "https://localhost:8080/",
          "height": 282
        },
        "id": "xYdjTthrLulm",
        "outputId": "021e111e-d927-4cd5-979b-9e36de51b09d"
      },
      "execution_count": null,
      "outputs": [
        {
          "output_type": "stream",
          "name": "stdout",
          "text": [
            "AxesImage(54,36;334.8x217.44)\n"
          ]
        },
        {
          "output_type": "display_data",
          "data": {
            "text/plain": [
              "<Figure size 432x288 with 1 Axes>"
            ],
            "image/png": "[encoded data removed]"
          },
          "metadata": {
            "needs_background": "light"
          }
        }
      ]
    },
    {
      "cell_type": "code",
      "source": [
        "print(plt.imshow(X_test[2]))"
      ],
      "metadata": {
        "colab": {
          "base_uri": "https://localhost:8080/",
          "height": 166
        },
        "id": "pzGj4kMBLt_8",
        "outputId": "705bbbed-fad3-4195-b34d-df2c6b61991b"
      },
      "execution_count": null,
      "outputs": [
        {
          "output_type": "error",
          "ename": "NameError",
          "evalue": "ignored",
          "traceback": [
            "\u001b[0;31m---------------------------------------------------------------------------\u001b[0m",
            "\u001b[0;31mNameError\u001b[0m                                 Traceback (most recent call last)",
            "\u001b[0;32m<ipython-input-1-eee1563d79b8>\u001b[0m in \u001b[0;36m<module>\u001b[0;34m\u001b[0m\n\u001b[0;32m----> 1\u001b[0;31m \u001b[0mprint\u001b[0m\u001b[0;34m(\u001b[0m\u001b[0mplt\u001b[0m\u001b[0;34m.\u001b[0m\u001b[0mimshow\u001b[0m\u001b[0;34m(\u001b[0m\u001b[0mX_test\u001b[0m\u001b[0;34m[\u001b[0m\u001b[0;36m2\u001b[0m\u001b[0;34m]\u001b[0m\u001b[0;34m)\u001b[0m\u001b[0;34m)\u001b[0m\u001b[0;34m\u001b[0m\u001b[0;34m\u001b[0m\u001b[0m\n\u001b[0m",
            "\u001b[0;31mNameError\u001b[0m: name 'plt' is not defined"
          ]
        }
      ]
    }
  ]
}